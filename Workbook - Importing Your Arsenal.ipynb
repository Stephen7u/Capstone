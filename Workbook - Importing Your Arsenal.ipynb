{
 "cells": [
  {
   "cell_type": "markdown",
   "metadata": {},
   "source": [
    "#### COMPANION WORKBOOK\n",
    "\n",
    "# Importing Your Arsenal\n",
    "\n",
    "To allow you to make the most out of this program, we've included companion Jupyter notebooks for the relevant modules.\n",
    "1. First practice writing and implementing all of the code from Coding Section of the online module.\n",
    "2. Then, freely experiment with and explore any interesting or confusing concepts. Simply insert new code cells and then use the help of Google and official documentation.\n",
    "3. Finally, tackle all of the exercises at the end. They will help you tie everything together and **learn in context.**\n",
    "\n",
    "#### <span style=\"color:#555\">MODULE CODE SANDBOX</span>\n",
    "\n",
    "Use this space to practice writing and implementing all of the code from Coding Section of the online module. Insert new code cells as needed, and feel free to write notes to yourself in Markdown.\n",
    "\n",
    "<span style=\"color:slateblue\">**IMPORTANT NOTE: In most of the companion workbooks, this section will NOT have the code pre-written for you. It is important to follow along with the ONLINE modules, which have coding sections with instructions, additional lessons, and important context. For example, you'll find additional explanations of the following code blocks in the ONLINE module (just keep scrolling down below the video).**</span>"
   ]
  },
  {
   "cell_type": "code",
   "execution_count": null,
   "metadata": {},
   "outputs": [],
   "source": []
  },
  {
   "cell_type": "markdown",
   "metadata": {},
   "source": [
    "## I. Jupyter Notebook Basics"
   ]
  },
  {
   "cell_type": "code",
   "execution_count": 1,
   "metadata": {},
   "outputs": [
    {
     "data": {
      "text/plain": [
       "2"
      ]
     },
     "execution_count": 1,
     "metadata": {},
     "output_type": "execute_result"
    }
   ],
   "source": [
    "# 1. This cell has a gray background, so it's a Code cell\n",
    "# 2. Click anywhere in this cell to place your cursor in it\n",
    "# 3. Press Shift + Enter on your keyboard\n",
    "1 + 1"
   ]
  },
  {
   "cell_type": "markdown",
   "metadata": {},
   "source": [
    "## II. Which Python Version?"
   ]
  },
  {
   "cell_type": "code",
   "execution_count": 1,
   "metadata": {},
   "outputs": [
    {
     "name": "stdout",
     "output_type": "stream",
     "text": [
      "Python version: 3.8.5 (default, Sep  3 2020, 21:29:08) [MSC v.1916 64 bit (AMD64)]  (At least 3.5 is recommended)\n"
     ]
    }
   ],
   "source": [
    "import sys\n",
    "print( 'Python version:', sys.version, ' (At least 3.5 is recommended)')"
   ]
  },
  {
   "cell_type": "markdown",
   "metadata": {},
   "source": [
    "## III. Core Libraries for Data Science"
   ]
  },
  {
   "cell_type": "code",
   "execution_count": 2,
   "metadata": {
    "scrolled": true
   },
   "outputs": [
    {
     "name": "stdout",
     "output_type": "stream",
     "text": [
      "NumPy version: 1.19.2  (At least 1.15.0 is recommended)\n",
      "Pandas version: 1.1.3  (At least 0.23.0 is recommended)\n"
     ]
    }
   ],
   "source": [
    "import numpy as np\n",
    "print( 'NumPy version:', np.__version__, ' (At least 1.15.0 is recommended)' )\n",
    "\n",
    "import pandas as pd\n",
    "print( 'Pandas version:', pd.__version__, ' (At least 0.23.0 is recommended)' )"
   ]
  },
  {
   "cell_type": "markdown",
   "metadata": {},
   "source": [
    "## IV. Tools for Data Visualization"
   ]
  },
  {
   "cell_type": "code",
   "execution_count": 3,
   "metadata": {},
   "outputs": [
    {
     "name": "stdout",
     "output_type": "stream",
     "text": [
      "Matplotlib version: 3.3.2  (At least 3.0.0 is recommended)\n",
      "Seaborn version: 0.11.0  (At least 0.9.0 is recommended)\n"
     ]
    }
   ],
   "source": [
    "import matplotlib\n",
    "print( 'Matplotlib version:', matplotlib.__version__, ' (At least 3.0.0 is recommended)' )\n",
    "\n",
    "import seaborn as sns\n",
    "print( 'Seaborn version:', sns.__version__, ' (At least 0.9.0 is recommended)' )"
   ]
  },
  {
   "cell_type": "markdown",
   "metadata": {},
   "source": [
    "## V. Machine Learning in a Box"
   ]
  },
  {
   "cell_type": "code",
   "execution_count": 4,
   "metadata": {
    "scrolled": true
   },
   "outputs": [
    {
     "name": "stdout",
     "output_type": "stream",
     "text": [
      "Scikit-Learn version: 0.23.2  (At least 0.18.0 is recommended)\n"
     ]
    }
   ],
   "source": [
    "import sklearn\n",
    "print( 'Scikit-Learn version:', sklearn.__version__, ' (At least 0.18.0 is recommended)' )"
   ]
  },
  {
   "cell_type": "markdown",
   "metadata": {},
   "source": [
    "## VI. Quick Notes Before We Begin"
   ]
  },
  {
   "cell_type": "code",
   "execution_count": 5,
   "metadata": {
    "scrolled": true
   },
   "outputs": [
    {
     "data": {
      "text/plain": [
       "4.0"
      ]
     },
     "execution_count": 5,
     "metadata": {},
     "output_type": "execute_result"
    }
   ],
   "source": [
    "3 * 5  # Not shown\n",
    "16 / 4 # Shown"
   ]
  },
  {
   "cell_type": "code",
   "execution_count": 7,
   "metadata": {},
   "outputs": [
    {
     "name": "stdout",
     "output_type": "stream",
     "text": [
      "15\n",
      "4.0\n"
     ]
    }
   ],
   "source": [
    "print( 3 * 5 ) # Shown\n",
    "print( 16 / 4 ) # Shown"
   ]
  },
  {
   "cell_type": "code",
   "execution_count": 6,
   "metadata": {},
   "outputs": [],
   "source": [
    "# print( 3 * 5 )  <-- This code does not get run"
   ]
  },
  {
   "cell_type": "code",
   "execution_count": 9,
   "metadata": {},
   "outputs": [
    {
     "name": "stdout",
     "output_type": "stream",
     "text": [
      "Testing 1 2 3\n"
     ]
    }
   ],
   "source": [
    "# Print concatenation\n",
    "print( 'Testing', 1, 2, 3 )"
   ]
  },
  {
   "cell_type": "markdown",
   "metadata": {},
   "source": [
    "## VII. Bonus Tip: How to Get More Help"
   ]
  },
  {
   "cell_type": "code",
   "execution_count": 7,
   "metadata": {},
   "outputs": [
    {
     "name": "stdout",
     "output_type": "stream",
     "text": [
      "Help on built-in function print in module builtins:\n",
      "\n",
      "print(...)\n",
      "    print(value, ..., sep=' ', end='\\n', file=sys.stdout, flush=False)\n",
      "    \n",
      "    Prints the values to a stream, or to sys.stdout by default.\n",
      "    Optional keyword arguments:\n",
      "    file:  a file-like object (stream); defaults to the current sys.stdout.\n",
      "    sep:   string inserted between values, default a space.\n",
      "    end:   string appended after the last value, default a newline.\n",
      "    flush: whether to forcibly flush the stream.\n",
      "\n"
     ]
    }
   ],
   "source": [
    "help(print)"
   ]
  },
  {
   "cell_type": "markdown",
   "metadata": {},
   "source": [
    "#### <span style=\"color:#555\">EXERCISES</span>\n",
    "\n",
    "Complete the following exercise.\n",
    "\n",
    "##  <span style=\"color:RoyalBlue\"> Exercise 1.1 - Markdown Showdown</span>\n",
    "\n",
    "Here are more exercises for practice and getting yourself familiar with Jupyter notebook.\n",
    "\n",
    "#### A.) Double-click this Markdown cell (inside the workbook). Voila! Now you see the underlying formatting.\n",
    "* Note how you write headings with pound signs (\\#)\n",
    "* Note how you can make text **bold** with double asterisks (\\*\\*)\n",
    "* Note how you can make text *italicized* with single asterisks (\\*)\n",
    "* Note how you can denote <code>code</code> with HTML tags.\n",
    "* Note how you can make a list of items."
   ]
  },
  {
   "cell_type": "markdown",
   "metadata": {},
   "source": [
    "#### B.) Press <code>Ctrl + Enter</code> to run the above cell again, so it looks properly formatted.\n",
    "* <code>Ctrl + Enter</code> runs the cell.\n",
    "* <code>Shift + Enter</code> runs the cell and then selects the next one. If there aren't any cells below, then it will create a new one."
   ]
  },
  {
   "cell_type": "markdown",
   "metadata": {},
   "source": [
    "#### C.) Insert a new Markdown cell right below this one.\n",
    "* You can click Insert in the toolbar above, or...\n",
    "* Use the shortcut: <code>b</code> (which stands for 'below'. Can you guess what's the shortcut for inserting a new cell **a**bove?)\n",
    "* **Tip:** When you first insert the cell, it will be a Code cell instead of a Markdown cell, so you must remember to change it to a Markdown cell!"
   ]
  },
  {
   "cell_type": "markdown",
   "metadata": {},
   "source": [
    "inserted markdown cell"
   ]
  },
  {
   "cell_type": "markdown",
   "metadata": {},
   "source": [
    "#### D.) In your new Markdown cell, write the heading: \"My Top 3 Reasons for Learning Python\". Then, in a list underneath the heading, write down your top 3 reasons.\n",
    "* We've always found this to be a quick but effective dose of motivation!"
   ]
  },
  {
   "cell_type": "markdown",
   "metadata": {},
   "source": [
    "3 Reasons\n",
    "1 To Analyze , Build Advance Analytic Predictions /Dashboards/ Reporting Tools in Machine Learning\n",
    "2 To implement Machine learning via Python\n",
    "3 To Bulid Predictive , future tools in Analytics with Python Machine learning "
   ]
  },
  {
   "cell_type": "markdown",
   "metadata": {},
   "source": [
    "#### E.) Finally, insert a new Code cell below your answers to (D). In the code cell, use Python's <code>print()</code> function to print your number 1 reason as an output inside Jupyter notebook.\n",
    "* **Tip:** Check the code you already ran above... you've already seen everything you need to complete this!"
   ]
  },
  {
   "cell_type": "code",
   "execution_count": 8,
   "metadata": {},
   "outputs": [
    {
     "name": "stdout",
     "output_type": "stream",
     "text": [
      "1 To Analyze , Build Advance Analytic Predictions /Dashboards/ Reporting Tools in Machine Learning\n"
     ]
    }
   ],
   "source": [
    "print(\"1 To Analyze , Build Advance Analytic Predictions /Dashboards/ Reporting Tools in Machine Learning\")"
   ]
  },
  {
   "cell_type": "markdown",
   "metadata": {},
   "source": [
    "#### F.) Try importing another library just for the fun of it. We won't be using it in this program, but you can try importing <code>scipy</code> for example.\n",
    "* Don't worry too much about the specifics just yet. This is just to let you start playing around with different features before the real fun begins. Feel free to try out different things, or ask Google if needed... you (probably) won't break anything."
   ]
  },
  {
   "cell_type": "code",
   "execution_count": 11,
   "metadata": {},
   "outputs": [
    {
     "name": "stdout",
     "output_type": "stream",
     "text": [
      "Collecting numpy\n",
      "  Downloading numpy-1.23.0-cp38-cp38-win_amd64.whl (14.7 MB)\n",
      "Installing collected packages: numpy\n",
      "  Attempting uninstall: numpy\n",
      "    Found existing installation: numpy 1.19.2\n",
      "    Uninstalling numpy-1.19.2:\n",
      "      Successfully uninstalled numpy-1.19.2\n",
      "Note: you may need to restart the kernel to use updated packages.\n"
     ]
    },
    {
     "name": "stderr",
     "output_type": "stream",
     "text": [
      "ERROR: Could not install packages due to an EnvironmentError: [WinError 5] Access is denied: 'C:\\\\Users\\\\U6052029\\\\Anaconda3\\\\Lib\\\\site-packages\\\\~umpy\\\\core\\\\_multiarray_tests.cp38-win_amd64.pyd'\n",
      "Consider using the `--user` option or check the permissions.\n",
      "\n"
     ]
    }
   ],
   "source": [
    "pip install numpy --upgrade"
   ]
  },
  {
   "cell_type": "code",
   "execution_count": 11,
   "metadata": {},
   "outputs": [
    {
     "name": "stdout",
     "output_type": "stream",
     "text": [
      "Collecting simple_salesforce\n",
      "  Downloading simple_salesforce-1.11.2-py2.py3-none-any.whl (30 kB)\n",
      "Requirement already satisfied: requests>=2.22.0 in c:\\users\\u6052029\\anaconda3\\lib\\site-packages (from simple_salesforce) (2.24.0)\n",
      "Collecting authlib\n",
      "  Downloading Authlib-0.15.4-py2.py3-none-any.whl (203 kB)\n",
      "Requirement already satisfied: idna<3,>=2.5 in c:\\users\\u6052029\\anaconda3\\lib\\site-packages (from requests>=2.22.0->simple_salesforce) (2.10)\n",
      "Requirement already satisfied: urllib3!=1.25.0,!=1.25.1,<1.26,>=1.21.1 in c:\\users\\u6052029\\anaconda3\\lib\\site-packages (from requests>=2.22.0->simple_salesforce) (1.25.11)\n",
      "Requirement already satisfied: chardet<4,>=3.0.2 in c:\\users\\u6052029\\anaconda3\\lib\\site-packages (from requests>=2.22.0->simple_salesforce) (3.0.4)\n",
      "Requirement already satisfied: certifi>=2017.4.17 in c:\\users\\u6052029\\anaconda3\\lib\\site-packages (from requests>=2.22.0->simple_salesforce) (2020.6.20)\n",
      "Requirement already satisfied: cryptography in c:\\users\\u6052029\\anaconda3\\lib\\site-packages (from authlib->simple_salesforce) (3.1.1)\n",
      "Requirement already satisfied: six>=1.4.1 in c:\\users\\u6052029\\anaconda3\\lib\\site-packages (from cryptography->authlib->simple_salesforce) (1.15.0)\n",
      "Requirement already satisfied: cffi!=1.11.3,>=1.8 in c:\\users\\u6052029\\anaconda3\\lib\\site-packages (from cryptography->authlib->simple_salesforce) (1.14.3)\n",
      "Requirement already satisfied: pycparser in c:\\users\\u6052029\\anaconda3\\lib\\site-packages (from cffi!=1.11.3,>=1.8->cryptography->authlib->simple_salesforce) (2.20)\n",
      "Installing collected packages: authlib, simple-salesforce\n",
      "Successfully installed authlib-0.15.4 simple-salesforce-1.11.2\n",
      "Note: you may need to restart the kernel to use updated packages.\n"
     ]
    }
   ],
   "source": [
    "pip install simple_salesforce"
   ]
  },
  {
   "cell_type": "code",
   "execution_count": 1,
   "metadata": {},
   "outputs": [],
   "source": [
    "%matplotlib notebook\n",
    "import numpy as np\n",
    "import pandas as pd\n",
    "from collections import Counter\n",
    "import requests\n",
    "import matplotlib.pyplot as plt\n",
    "\n",
    "from simple_salesforce import Salesforce\n",
    "requests.packages.urllib3.disable_warnings() # this squashes insecure SSL warnings - DO NOT DO THIS ON PRODUCTION!"
   ]
  },
  {
   "cell_type": "code",
   "execution_count": 10,
   "metadata": {},
   "outputs": [
    {
     "name": "stdout",
     "output_type": "stream",
     "text": [
      "     Name   Age\n",
      "0    Alex  10.0\n",
      "1     Bob  12.0\n",
      "2  Clarke  13.0\n"
     ]
    }
   ],
   "source": [
    "import pandas as pd\n",
    "data = [['Alex',10],['Bob',12],['Clarke',13]]\n",
    "df = pd.DataFrame(data,columns=['Name','Age'],dtype=float)\n",
    "print (df)"
   ]
  }
 ],
 "metadata": {
  "anaconda-cloud": {},
  "kernelspec": {
   "display_name": "Python 3",
   "language": "python",
   "name": "python3"
  },
  "language_info": {
   "codemirror_mode": {
    "name": "ipython",
    "version": 3
   },
   "file_extension": ".py",
   "mimetype": "text/x-python",
   "name": "python",
   "nbconvert_exporter": "python",
   "pygments_lexer": "ipython3",
   "version": "3.8.5"
  }
 },
 "nbformat": 4,
 "nbformat_minor": 1
}
